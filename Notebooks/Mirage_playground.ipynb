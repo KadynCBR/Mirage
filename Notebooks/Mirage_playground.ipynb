{
 "cells": [
  {
   "cell_type": "code",
   "execution_count": 1,
   "id": "32f2e0c9-41f0-46ac-bf77-80b4b3c6feca",
   "metadata": {},
   "outputs": [
    {
     "ename": "ModuleNotFoundError",
     "evalue": "No module named 'skeleton'",
     "output_type": "error",
     "traceback": [
      "\u001b[0;31m---------------------------------------------------------------------------\u001b[0m",
      "\u001b[0;31mModuleNotFoundError\u001b[0m                       Traceback (most recent call last)",
      "Cell \u001b[0;32mIn[1], line 8\u001b[0m\n\u001b[1;32m      6\u001b[0m \u001b[38;5;28;01mfrom\u001b[39;00m \u001b[38;5;21;01margparse\u001b[39;00m \u001b[38;5;28;01mimport\u001b[39;00m ArgumentParser\n\u001b[1;32m      7\u001b[0m \u001b[38;5;28;01mimport\u001b[39;00m \u001b[38;5;21;01mnumpy\u001b[39;00m \u001b[38;5;28;01mas\u001b[39;00m \u001b[38;5;21;01mnp\u001b[39;00m\n\u001b[0;32m----> 8\u001b[0m \u001b[38;5;28;01mfrom\u001b[39;00m \u001b[38;5;21;01mmirage\u001b[39;00m\u001b[38;5;21;01m.\u001b[39;00m\u001b[38;5;21;01mmirage_helpers\u001b[39;00m \u001b[38;5;28;01mimport\u001b[39;00m \u001b[38;5;241m*\u001b[39m\n\u001b[1;32m      9\u001b[0m \u001b[38;5;66;03m# from pose_extract_base import MLAbstractInterface\u001b[39;00m\n\u001b[1;32m     10\u001b[0m \u001b[38;5;66;03m# from rgb_interface import CameraInterface\u001b[39;00m\n\u001b[1;32m     11\u001b[0m \u001b[38;5;66;03m# from movenet import MovenetInterface\u001b[39;00m\n\u001b[1;32m     12\u001b[0m \u001b[38;5;66;03m# from skeleton import SkeletonDetection\u001b[39;00m\n",
      "File \u001b[0;32m~/Documents/school/CAP/Mirage/mirage/mirage_helpers.py:5\u001b[0m\n\u001b[1;32m      3\u001b[0m \u001b[38;5;28;01mfrom\u001b[39;00m \u001b[38;5;21;01margparse\u001b[39;00m \u001b[38;5;28;01mimport\u001b[39;00m ArgumentParser\n\u001b[1;32m      4\u001b[0m \u001b[38;5;28;01mimport\u001b[39;00m \u001b[38;5;21;01mnumpy\u001b[39;00m \u001b[38;5;28;01mas\u001b[39;00m \u001b[38;5;21;01mnp\u001b[39;00m\n\u001b[0;32m----> 5\u001b[0m \u001b[38;5;28;01mfrom\u001b[39;00m \u001b[38;5;21;01mskeleton\u001b[39;00m \u001b[38;5;28;01mimport\u001b[39;00m KeypointMappings, SkeletonDetection\n\u001b[1;32m      8\u001b[0m KeypointEdges \u001b[38;5;241m=\u001b[39m {\n\u001b[1;32m      9\u001b[0m     (\u001b[38;5;241m0\u001b[39m, \u001b[38;5;241m1\u001b[39m): (\u001b[38;5;241m50\u001b[39m, \u001b[38;5;241m100\u001b[39m, \u001b[38;5;241m200\u001b[39m),\n\u001b[1;32m     10\u001b[0m     (\u001b[38;5;241m0\u001b[39m, \u001b[38;5;241m2\u001b[39m): (\u001b[38;5;241m10\u001b[39m, \u001b[38;5;241m200\u001b[39m, \u001b[38;5;241m100\u001b[39m),\n\u001b[0;32m   (...)\u001b[0m\n\u001b[1;32m     26\u001b[0m     (\u001b[38;5;241m14\u001b[39m, \u001b[38;5;241m16\u001b[39m): (\u001b[38;5;241m10\u001b[39m, \u001b[38;5;241m200\u001b[39m, \u001b[38;5;241m100\u001b[39m),\n\u001b[1;32m     27\u001b[0m }\n\u001b[1;32m     30\u001b[0m \u001b[38;5;28;01mdef\u001b[39;00m \u001b[38;5;21mcrop_image\u001b[39m(image: MatLike, y: \u001b[38;5;28mint\u001b[39m, height: \u001b[38;5;28mint\u001b[39m, x: \u001b[38;5;28mint\u001b[39m, width: \u001b[38;5;28mint\u001b[39m, margin: \u001b[38;5;28mint\u001b[39m \u001b[38;5;241m=\u001b[39m \u001b[38;5;241m25\u001b[39m) \u001b[38;5;241m-\u001b[39m\u001b[38;5;241m>\u001b[39m MatLike:\n",
      "\u001b[0;31mModuleNotFoundError\u001b[0m: No module named 'skeleton'"
     ]
    }
   ],
   "source": [
    "import cv2\n",
    "from typing import Any\n",
    "import subprocess\n",
    "import os\n",
    "from cv2.typing import MatLike\n",
    "from argparse import ArgumentParser\n",
    "import numpy as np\n",
    "from mirage.mirage_helpers import *\n",
    "# from pose_extract_base import MLAbstractInterface\n",
    "# from rgb_interface import CameraInterface\n",
    "# from movenet import MovenetInterface\n",
    "# from skeleton import SkeletonDetection\n"
   ]
  }
 ],
 "metadata": {
  "kernelspec": {
   "display_name": "MirageEnv",
   "language": "python",
   "name": "mirageenv"
  },
  "language_info": {
   "codemirror_mode": {
    "name": "ipython",
    "version": 3
   },
   "file_extension": ".py",
   "mimetype": "text/x-python",
   "name": "python",
   "nbconvert_exporter": "python",
   "pygments_lexer": "ipython3",
   "version": "3.10.12"
  }
 },
 "nbformat": 4,
 "nbformat_minor": 5
}
